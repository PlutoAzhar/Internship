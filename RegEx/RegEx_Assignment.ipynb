{
 "cells": [
  {
   "cell_type": "code",
   "execution_count": 1,
   "id": "87a30b7e",
   "metadata": {},
   "outputs": [
    {
     "name": "stdout",
     "output_type": "stream",
     "text": [
      "True\n"
     ]
    }
   ],
   "source": [
    "# Q1. Python program to check that a string contains only a certain set of characters (in this case a-z, A-Z and 0-9)\n",
    "\n",
    "import re\n",
    "\n",
    "pattern='^[a-zA-Z0-9]*$'\n",
    "Text='EnterAnyTextHere'\n",
    "code=bool(re.match(pattern,Text))\n",
    "print(code)"
   ]
  },
  {
   "cell_type": "code",
   "execution_count": 2,
   "id": "7dcfdb01",
   "metadata": {},
   "outputs": [],
   "source": [
    "#Q2. function in python that matches a string that has an a followed by zero or more b's\n",
    "\n",
    "\n",
    "def Text(text):    \n",
    "    pattern='ab*?'\n",
    "    if re.search(pattern,text):        \n",
    "        print('True')\n",
    "    else:\n",
    "        print('False') "
   ]
  },
  {
   "cell_type": "code",
   "execution_count": 3,
   "id": "0d0aa153",
   "metadata": {},
   "outputs": [
    {
     "name": "stdout",
     "output_type": "stream",
     "text": [
      "True\n",
      "None\n"
     ]
    }
   ],
   "source": [
    "print(Text('Abhibbabh'))"
   ]
  },
  {
   "cell_type": "code",
   "execution_count": 4,
   "id": "964442d3",
   "metadata": {},
   "outputs": [],
   "source": [
    "#3d Question:\n",
    "\n",
    "def Text(text):    \n",
    "    pattern='ab+?'\n",
    "    if re.search(pattern,text):        \n",
    "        print('True')\n",
    "    else:\n",
    "        print('False') "
   ]
  },
  {
   "cell_type": "code",
   "execution_count": 5,
   "id": "bc957d05",
   "metadata": {},
   "outputs": [
    {
     "name": "stdout",
     "output_type": "stream",
     "text": [
      "True\n",
      "None\n"
     ]
    }
   ],
   "source": [
    "print(Text('abcd'))"
   ]
  },
  {
   "cell_type": "code",
   "execution_count": 6,
   "id": "ded5ceaa",
   "metadata": {},
   "outputs": [],
   "source": [
    "#4th Question:\n",
    "\n",
    "def greet(text):    \n",
    "    pattern='ab?'\n",
    "    if re.search(pattern,text):        \n",
    "        print('True')\n",
    "    else:\n",
    "        print('False') "
   ]
  },
  {
   "cell_type": "code",
   "execution_count": 7,
   "id": "b1ed5258",
   "metadata": {},
   "outputs": [
    {
     "name": "stdout",
     "output_type": "stream",
     "text": [
      "True\n",
      "None\n"
     ]
    }
   ],
   "source": [
    "print(greet('Abhibabbh'))"
   ]
  },
  {
   "cell_type": "code",
   "execution_count": 8,
   "id": "ed2ec3a5",
   "metadata": {},
   "outputs": [],
   "source": [
    "#5th Question:\n",
    "\n",
    "\n",
    "def greet(text):    \n",
    "    pattern='ab{3}?'\n",
    "    if re.search(pattern,text):        \n",
    "        print('True')\n",
    "    else:\n",
    "        print('False')"
   ]
  },
  {
   "cell_type": "code",
   "execution_count": 9,
   "id": "3cfcfaff",
   "metadata": {},
   "outputs": [
    {
     "name": "stdout",
     "output_type": "stream",
     "text": [
      "True\n",
      "None\n"
     ]
    }
   ],
   "source": [
    "print(greet('abbbhiah'))"
   ]
  },
  {
   "cell_type": "code",
   "execution_count": 10,
   "id": "cbfa63dc",
   "metadata": {},
   "outputs": [
    {
     "data": {
      "text/plain": [
       "['Importance', 'Of', 'Regular', 'Expressions', 'In', 'Python']"
      ]
     },
     "execution_count": 10,
     "metadata": {},
     "output_type": "execute_result"
    }
   ],
   "source": [
    "#6th Question:\n",
    "text='ImportanceOfRegularExpressionsInPython'\n",
    "pattern='[A-Z][^A-Z]*'\n",
    "Split=re.findall(pattern,text)\n",
    "Split"
   ]
  },
  {
   "cell_type": "code",
   "execution_count": 11,
   "id": "52a2aa01",
   "metadata": {},
   "outputs": [],
   "source": [
    "#7th Question:\n",
    "\n",
    "def greet(text):    \n",
    "    pattern='ab{2,3}?'\n",
    "    if re.search(pattern,text):        \n",
    "        print('True')\n",
    "    else:\n",
    "        print('False')"
   ]
  },
  {
   "cell_type": "code",
   "execution_count": 12,
   "id": "b7b9025f",
   "metadata": {},
   "outputs": [
    {
     "name": "stdout",
     "output_type": "stream",
     "text": [
      "True\n",
      "None\n"
     ]
    }
   ],
   "source": [
    "print(greet('abbibhh'))"
   ]
  },
  {
   "cell_type": "code",
   "execution_count": 13,
   "id": "9bb1b9e8",
   "metadata": {},
   "outputs": [],
   "source": [
    "#8th Question:\n",
    "\n",
    "def greet(text):    \n",
    "    pattern='^[a-z]+_[a-z]+$'\n",
    "    if re.search(pattern,text):        \n",
    "        print('True')\n",
    "    else:\n",
    "        print('False')"
   ]
  },
  {
   "cell_type": "code",
   "execution_count": 14,
   "id": "0cde2d42",
   "metadata": {},
   "outputs": [
    {
     "name": "stdout",
     "output_type": "stream",
     "text": [
      "True\n",
      "None\n"
     ]
    }
   ],
   "source": [
    "print(greet('hello_world'))"
   ]
  },
  {
   "cell_type": "code",
   "execution_count": 15,
   "id": "afa678d0",
   "metadata": {},
   "outputs": [],
   "source": [
    "#9th Question:\n",
    "\n",
    "def greet(text):    \n",
    "    pattern='a.*?b$'\n",
    "    if re.search(pattern,text):        \n",
    "        print('True')\n",
    "    else:\n",
    "        print('False')"
   ]
  },
  {
   "cell_type": "code",
   "execution_count": 16,
   "id": "06738796",
   "metadata": {},
   "outputs": [
    {
     "name": "stdout",
     "output_type": "stream",
     "text": [
      "True\n",
      "None\n"
     ]
    }
   ],
   "source": [
    "print(greet('a_hello_worlb'))"
   ]
  },
  {
   "cell_type": "code",
   "execution_count": 17,
   "id": "5c3d0988",
   "metadata": {},
   "outputs": [],
   "source": [
    "#10th Question:\n",
    "\n",
    "def greet(text):    \n",
    "    pattern='^\\w+'\n",
    "    if re.search(pattern,text):        \n",
    "        print('True')\n",
    "    else:\n",
    "        print('False')"
   ]
  },
  {
   "cell_type": "code",
   "execution_count": 18,
   "id": "c6838a61",
   "metadata": {},
   "outputs": [
    {
     "name": "stdout",
     "output_type": "stream",
     "text": [
      "True\n",
      "None\n"
     ]
    }
   ],
   "source": [
    "print(greet('hello_world'))"
   ]
  },
  {
   "cell_type": "code",
   "execution_count": 19,
   "id": "35d4ddaa",
   "metadata": {},
   "outputs": [],
   "source": [
    "#11th Question:\n",
    "\n",
    "def greet(text):    \n",
    "    pattern='^[a-zA-Z0-9_]*$'\n",
    "    if re.search(pattern,text):        \n",
    "        print('True')\n",
    "    else:\n",
    "        print('False')"
   ]
  },
  {
   "cell_type": "code",
   "execution_count": 20,
   "id": "2325c603",
   "metadata": {},
   "outputs": [
    {
     "name": "stdout",
     "output_type": "stream",
     "text": [
      "True\n",
      "None\n"
     ]
    }
   ],
   "source": [
    "print(greet('Hello_world'))"
   ]
  },
  {
   "cell_type": "code",
   "execution_count": 21,
   "id": "8af53f5b",
   "metadata": {},
   "outputs": [],
   "source": [
    "#12th Question:\n",
    "\n",
    "def greet(text):    \n",
    "    pattern='^9'\n",
    "    if re.search(pattern,text):        \n",
    "        print('True')\n",
    "    else:\n",
    "        print('False')"
   ]
  },
  {
   "cell_type": "code",
   "execution_count": 22,
   "id": "2f73341e",
   "metadata": {},
   "outputs": [
    {
     "name": "stdout",
     "output_type": "stream",
     "text": [
      "True\n",
      "None\n"
     ]
    }
   ],
   "source": [
    "print(greet('9_Hello_world'))"
   ]
  },
  {
   "cell_type": "code",
   "execution_count": 23,
   "id": "524f4781",
   "metadata": {},
   "outputs": [
    {
     "data": {
      "text/plain": [
       "'123.12.123.23'"
      ]
     },
     "execution_count": 23,
     "metadata": {},
     "output_type": "execute_result"
    }
   ],
   "source": [
    "#13th Question:\n",
    "\n",
    "IP_Address='123.012.0123.23'\n",
    "pattern='\\.[0]*'\n",
    "zero=re.sub(pattern,'.',IP_Address)\n",
    "zero"
   ]
  },
  {
   "cell_type": "code",
   "execution_count": 2,
   "id": "9f912b81",
   "metadata": {},
   "outputs": [
    {
     "data": {
      "text/plain": [
       "<re.Match object; span=(0, 16), match='August 15th 1947'>"
      ]
     },
     "execution_count": 2,
     "metadata": {},
     "output_type": "execute_result"
    }
   ],
   "source": [
    "#14th Question:\n",
    "\n",
    "pattern='\\D+\\s\\d+\\D+\\s\\d+'\n",
    "greet='August 15th 1947 that India was declared independent from British colonialism, and the reins of control were handed over to the leaders of the Country'\n",
    "m=re.match(pattern,greet)\n",
    "m"
   ]
  },
  {
   "cell_type": "code",
   "execution_count": 2,
   "id": "540db044",
   "metadata": {},
   "outputs": [
    {
     "name": "stdout",
     "output_type": "stream",
     "text": [
      "The word fox:\n",
      "Is found!\n",
      "The word dog:\n",
      "Is found!\n",
      "The word horse:\n",
      "Is not found!\n"
     ]
    }
   ],
   "source": [
    "#15th Question:\n",
    "\n",
    "string=['fox','dog','horse']\n",
    "text='The quick brown fox jumps over the lazy dog.'\n",
    "for word in string:\n",
    "    print('The word %s:' % word)\n",
    "    if re.search(word,text):\n",
    "        print('Is found!')\n",
    "    else:\n",
    "        print('Is not found!')"
   ]
  },
  {
   "cell_type": "code",
   "execution_count": 3,
   "id": "908f8f49",
   "metadata": {},
   "outputs": [
    {
     "name": "stdout",
     "output_type": "stream",
     "text": [
      "<re.Match object; span=(16, 19), match='fox'> 16 19\n"
     ]
    }
   ],
   "source": [
    "#16th Question:\n",
    "\n",
    "string='fox'\n",
    "text='The quick brown fox jumps over the lazy dog.'\n",
    "match=re.search(string,text)\n",
    "start=match.start()\n",
    "end=match.end()\n",
    "print(match,start,end)"
   ]
  },
  {
   "cell_type": "code",
   "execution_count": 4,
   "id": "0414af64",
   "metadata": {},
   "outputs": [
    {
     "name": "stdout",
     "output_type": "stream",
     "text": [
      "The searched word is: exercises\n",
      "The searched word is: exercises\n",
      "The searched word is: exercises\n"
     ]
    }
   ],
   "source": [
    "#17th Question:\n",
    "\n",
    "string='exercises'\n",
    "Sample_Text='Python exercises, PHP exercises, C# exercises'\n",
    "for match in re.findall(string,Sample_Text):\n",
    "    print('The searched word is: %s' %match)"
   ]
  },
  {
   "cell_type": "code",
   "execution_count": 5,
   "id": "e2847d12",
   "metadata": {},
   "outputs": [
    {
     "name": "stdout",
     "output_type": "stream",
     "text": [
      "The searched word is: <re.Match object; span=(7, 16), match='exercises'> at 7 till 16\n",
      "The searched word is: <re.Match object; span=(22, 31), match='exercises'> at 22 till 31\n",
      "The searched word is: <re.Match object; span=(36, 45), match='exercises'> at 36 till 45\n"
     ]
    }
   ],
   "source": [
    "#18th Question:\n",
    "\n",
    "string='exercises'\n",
    "Sample_Text='Python exercises, PHP exercises, C# exercises'\n",
    "for match in re.finditer(string,Sample_Text):\n",
    "    start=match.start()\n",
    "    end=match.end()\n",
    "    print('The searched word is: %s at %d till %d' %(match,start,end))"
   ]
  },
  {
   "cell_type": "code",
   "execution_count": 6,
   "id": "e919f294",
   "metadata": {},
   "outputs": [
    {
     "name": "stdout",
     "output_type": "stream",
     "text": [
      "13-07-2023\n"
     ]
    }
   ],
   "source": [
    "#19th Question:\n",
    "\n",
    "def date(Date):\n",
    "    return re.sub(r'(\\d{4})-(\\d{1,2})-(\\d{1,2})', '\\\\3-\\\\2-\\\\1',Date)\n",
    "print(date('2023-07-13'))"
   ]
  },
  {
   "cell_type": "code",
   "execution_count": 7,
   "id": "09e8fa85",
   "metadata": {},
   "outputs": [
    {
     "name": "stdout",
     "output_type": "stream",
     "text": [
      "['elegant', 'eagle', 'animal']\n"
     ]
    }
   ],
   "source": [
    "#20th Question:\n",
    "\n",
    "text='the quick elegant eagle jumps on the animal'\n",
    "list=re.findall('[ae]\\w+',text)\n",
    "print(list)"
   ]
  },
  {
   "cell_type": "code",
   "execution_count": 8,
   "id": "5d4f04a3",
   "metadata": {},
   "outputs": [
    {
     "name": "stdout",
     "output_type": "stream",
     "text": [
      "Number in the string is:  50\n",
      "Number starts at position:  10\n"
     ]
    }
   ],
   "source": [
    "#21st Question:\n",
    "\n",
    "text='the quick 50 elegant eagles jumps on fields'\n",
    "for a in re.finditer('\\d+',text):\n",
    "    print('Number in the string is: ', a.group(0))\n",
    "    print('Number starts at position: ',a.start())"
   ]
  },
  {
   "cell_type": "code",
   "execution_count": 9,
   "id": "3225501e",
   "metadata": {},
   "outputs": [
    {
     "name": "stdout",
     "output_type": "stream",
     "text": [
      "Highest number is:  120\n"
     ]
    }
   ],
   "source": [
    "#22nd Question:\n",
    "\n",
    "text='Tomatoes of 1 Kg is Rs 120, Onion for 4 Kg is Rs. 100.'\n",
    "number=re.findall('\\d+',text)\n",
    "number=map(int,number)\n",
    "print('Highest number is: ',max(number))"
   ]
  },
  {
   "cell_type": "code",
   "execution_count": 10,
   "id": "7dbd5b42",
   "metadata": {},
   "outputs": [
    {
     "name": "stdout",
     "output_type": "stream",
     "text": [
      "Good Morning All\n"
     ]
    }
   ],
   "source": [
    "#23rd Question:\n",
    "\n",
    "text='GoodMorningAll'\n",
    "separate=re.findall('[A-Z][a-z]*',text)\n",
    "print(' '.join(separate))"
   ]
  },
  {
   "cell_type": "code",
   "execution_count": 11,
   "id": "bb212d55",
   "metadata": {},
   "outputs": [
    {
     "name": "stdout",
     "output_type": "stream",
     "text": [
      "Found!\n",
      "None\n"
     ]
    }
   ],
   "source": [
    "#24th Question:\n",
    "\n",
    "def OneUpperLower(text):\n",
    "    pattern='[A-Z]+[a-z]+$'\n",
    "    if re.search(pattern,text):\n",
    "        print('Found!')\n",
    "    else:\n",
    "        print('Not found!')\n",
    "        \n",
    "print(OneUpperLower('Hello'))"
   ]
  },
  {
   "cell_type": "code",
   "execution_count": 12,
   "id": "b1af6f87",
   "metadata": {},
   "outputs": [
    {
     "name": "stdout",
     "output_type": "stream",
     "text": [
      "good morning\n"
     ]
    }
   ],
   "source": [
    "#25th Question:\n",
    "\n",
    "string='good good morning morning'\n",
    "pattern = r'\\b(\\w+)(?:\\W+\\1\\b)+'\n",
    "a=re.sub(pattern, r'\\1', string , flags=re.IGNORECASE)\n",
    "print(a)"
   ]
  },
  {
   "cell_type": "code",
   "execution_count": 13,
   "id": "19d742d9",
   "metadata": {},
   "outputs": [
    {
     "name": "stdout",
     "output_type": "stream",
     "text": [
      "None\n"
     ]
    }
   ],
   "source": [
    "#26th Question:\n",
    "\n",
    "string='Python is good #'\n",
    "pattern='[a-zA-Z0-9]$'\n",
    "a=re.search(pattern,string)\n",
    "print(a)"
   ]
  },
  {
   "cell_type": "code",
   "execution_count": 3,
   "id": "6640ff21",
   "metadata": {},
   "outputs": [
    {
     "name": "stdout",
     "output_type": "stream",
     "text": [
      "['#Doltiwal', '#xyzabc', '#Demonetization']\n"
     ]
    }
   ],
   "source": [
    "#27th Question:\n",
    "\n",
    "text='RT @kapil_kausik: #Doltiwal I mean #xyzabc is \"hurt\" by #Demonetization as the same has rendered USELESS <ed><U+00A0><U+00BD><ed><U+00B1><U+0089> \"acquired funds\" No wo'\n",
    "pattern=r'#\\w+'\n",
    "a=re.findall(pattern,text)\n",
    "print(a)"
   ]
  },
  {
   "cell_type": "code",
   "execution_count": 4,
   "id": "ebf6527c",
   "metadata": {},
   "outputs": [
    {
     "name": "stdout",
     "output_type": "stream",
     "text": [
      "@Jags123456 Bharat band on 28??<ed> Those who  are protesting #demonetization  are all different party leaders\n"
     ]
    }
   ],
   "source": [
    "#28th Question:\n",
    "\n",
    "text='@Jags123456 Bharat band on 28??<ed><U+00A0><U+00BD><U+00B8><U+0082>Those who  are protesting #demonetization  are all different party leaders'\n",
    "pattern='<U.*>'\n",
    "b=re.sub(pattern,' ',text)\n",
    "print(b)"
   ]
  },
  {
   "cell_type": "code",
   "execution_count": 5,
   "id": "17ade14d",
   "metadata": {},
   "outputs": [
    {
     "name": "stdout",
     "output_type": "stream",
     "text": [
      "['12-09-1992', '15-12-1999']\n"
     ]
    }
   ],
   "source": [
    "text='Ron was born on 12-09-1992 and he was admitted to school 15-12-1999.'\n",
    "pattern=r'\\d+-+\\d+-\\d+'\n",
    "a=re.findall(pattern,text)\n",
    "print(a)"
   ]
  },
  {
   "cell_type": "code",
   "execution_count": 6,
   "id": "83fdd57c",
   "metadata": {},
   "outputs": [
    {
     "name": "stdout",
     "output_type": "stream",
     "text": [
      "Python:Exercises::PHP:exercises:\n"
     ]
    }
   ],
   "source": [
    "#30th Question:\n",
    "\n",
    "text='Python Exercises, PHP exercises.'\n",
    "pattern='[, .]'\n",
    "a=re.sub(pattern,':',text)\n",
    "print(a)"
   ]
  },
  {
   "cell_type": "code",
   "execution_count": null,
   "id": "db5f50df",
   "metadata": {},
   "outputs": [],
   "source": []
  }
 ],
 "metadata": {
  "kernelspec": {
   "display_name": "Python 3 (ipykernel)",
   "language": "python",
   "name": "python3"
  },
  "language_info": {
   "codemirror_mode": {
    "name": "ipython",
    "version": 3
   },
   "file_extension": ".py",
   "mimetype": "text/x-python",
   "name": "python",
   "nbconvert_exporter": "python",
   "pygments_lexer": "ipython3",
   "version": "3.9.13"
  }
 },
 "nbformat": 4,
 "nbformat_minor": 5
}
